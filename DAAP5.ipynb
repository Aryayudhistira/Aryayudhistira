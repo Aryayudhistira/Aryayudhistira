{
  "nbformat": 4,
  "nbformat_minor": 0,
  "metadata": {
    "colab": {
      "provenance": [],
      "collapsed_sections": []
    },
    "kernelspec": {
      "name": "python3",
      "display_name": "Python 3"
    },
    "language_info": {
      "name": "python"
    }
  },
  "cells": [
    {
      "cell_type": "code",
      "execution_count": null,
      "metadata": {
        "id": "k-k2LHWeqLOS"
      },
      "outputs": [],
      "source": [
        "def countInversion(arr):\n",
        "    result=0\n",
        "    for i in range (len(arr)):\n",
        "      for j in range (i+1,len(arr)):\n",
        "        if arr [i]>arr[j]:\n",
        "          result+=1\n",
        "    return result "
      ]
    },
    {
      "cell_type": "code",
      "source": [
        "arr=[21, 70, 36, 14, 25]"
      ],
      "metadata": {
        "id": "Bm2e0rpmqzNJ"
      },
      "execution_count": null,
      "outputs": []
    },
    {
      "cell_type": "code",
      "source": [
        "result=countInversion(arr)\n",
        "print(result)"
      ],
      "metadata": {
        "colab": {
          "base_uri": "https://localhost:8080/"
        },
        "id": "hPux9uEIrCZ3",
        "outputId": "3c16fcd6-e9b8-4178-c5b0-da81b2b00a8c"
      },
      "execution_count": null,
      "outputs": [
        {
          "output_type": "stream",
          "name": "stdout",
          "text": [
            "6\n"
          ]
        }
      ]
    },
    {
      "cell_type": "code",
      "source": [
        "# HITUNG INVERSI DENGAN DIVIDE DAN COUNQUER\n",
        "\n",
        "def countInversion(arr):\n",
        "    icount=0\n",
        "    if len(arr)<=1:\n",
        "        return icount\n",
        "\n",
        "    mid=len(arr)//2\n",
        "    left=arr[:mid]\n",
        "    right=arr[mid:]\n",
        "    icount+=countInversion(left)\n",
        "    icount+=countInversion(right)\n",
        "    i=j=k=0\n",
        "\n",
        "    #print(left)\n",
        "    #print(right)\n",
        "    while i<len(left) and j<len(right):\n",
        "        if left[i]<right[j]:\n",
        "            arr[k]=left[i]\n",
        "            i+=1\n",
        "        else:\n",
        "            #print(left[i],right[j])\n",
        "            arr[k]=right[j]\n",
        "            j+=1\n",
        "            icount+=(mid-i)\n",
        "        k+=1\n",
        "\n",
        "    while i<len(left):\n",
        "        arr[k]=left[i]\n",
        "        i+=1\n",
        "        k+=1\n",
        "    while j<len(right):\n",
        "        arr[k]=right[j]\n",
        "        j+=1\n",
        "        k+=1\n",
        "\n",
        "    return icount"
      ],
      "metadata": {
        "id": "30yKk2CrsyPY"
      },
      "execution_count": null,
      "outputs": []
    },
    {
      "cell_type": "code",
      "source": [
        "arr=[1, 20, 6, 4, 5]\n"
      ],
      "metadata": {
        "id": "ji52r2YByTUp"
      },
      "execution_count": null,
      "outputs": []
    },
    {
      "cell_type": "code",
      "source": [
        "result = countInversion(arr)\n",
        "print(result)"
      ],
      "metadata": {
        "colab": {
          "base_uri": "https://localhost:8080/"
        },
        "id": "_ZEbJKVtyYxY",
        "outputId": "e05701d8-4764-419a-825f-22f2a8c9372f"
      },
      "execution_count": null,
      "outputs": [
        {
          "output_type": "stream",
          "name": "stdout",
          "text": [
            "2\n"
          ]
        }
      ]
    },
    {
      "cell_type": "code",
      "source": [
        "def maxSubSum(arr):\n",
        "  max_so_far=0\n",
        "  max_ending_here=0\n",
        "  for i in range(len(arr)):\n",
        "    max_ending_here+=arr[i]\n",
        "    if max_ending_here>max_so_far:\n",
        "      max_so_far=max_ending_here\n",
        "    if max_ending_here<0:\n",
        "      max_ending_here=0\n",
        "  return max_so_far"
      ],
      "metadata": {
        "id": "h6XTxyqHDhJ6"
      },
      "execution_count": null,
      "outputs": []
    },
    {
      "cell_type": "code",
      "source": [
        "arr=[-2, -5, 6, -2, -3, 1, 5, -6]\n",
        "result=maxSubSum(arr)\n",
        "print(result)"
      ],
      "metadata": {
        "colab": {
          "base_uri": "https://localhost:8080/"
        },
        "id": "hcDUOEk2EE5R",
        "outputId": "b24d7000-f1b4-4774-856d-f3758d4f88d5"
      },
      "execution_count": null,
      "outputs": [
        {
          "output_type": "stream",
          "name": "stdout",
          "text": [
            "7\n"
          ]
        }
      ]
    },
    {
      "cell_type": "code",
      "source": [
        "def maxCrossingSum(arr,low,mid,high):\n",
        "  result=0; leftSum=float('-infinity')\n",
        "  for i in range(mid,low-1,-1):\n",
        "    result+=arr[i]\n",
        "    if result>leftSum:\n",
        "      leftSum=result\n",
        "  result=0; rightSum=float('-infinity')\n",
        "  for i in range(mid+1,high+1):\n",
        "    result+=arr[i]\n",
        "    if result>rightSum:\n",
        "      rightSum=result\n",
        "  return leftSum+rightSum\n",
        "\n",
        "\n",
        "def maxSum(arr,low,high):\n",
        "  if low==high:\n",
        "    return arr[low]\n",
        "  mid=(low+high)//2\n",
        "  return max(maxSum(arr,low,mid),maxSum(arr,mid+1,high), maxCrossingSum(arr,low,mid,high))"
      ],
      "metadata": {
        "id": "l0U3nmlCEFdg"
      },
      "execution_count": null,
      "outputs": []
    },
    {
      "cell_type": "code",
      "source": [
        "arr=[-2, -5, 6, -2, -3, 1, 5, -6]\n",
        "result=maxSum(arr,0,len(arr)-1)\n",
        "print(result)"
      ],
      "metadata": {
        "colab": {
          "base_uri": "https://localhost:8080/"
        },
        "id": "7m4GgGipEPdh",
        "outputId": "9652b292-1643-4168-fec5-797b5a0328a4"
      },
      "execution_count": null,
      "outputs": [
        {
          "output_type": "stream",
          "name": "stdout",
          "text": [
            "7\n"
          ]
        }
      ]
    },
    {
      "cell_type": "code",
      "source": [
        "#median dari dua array dengan divide dan coquer\n",
        "\n",
        "def medianOfArray(arr1,arr2,n);\n",
        "    m1=-1 #first number\n",
        "    m2=-1 #second Number\n",
        "    count=0\n",
        "    i=j=0\n",
        "    while count<n+1:\n",
        "      if i==n: #i==5 index errir if arr1[i]<arr2[j] is checked\n",
        "          m1=m2\n",
        "          m2=arr2[0]\n",
        "          break\n",
        "      if j==n:\n",
        "          m1=m2\n",
        "          m2=arr1[0]\n",
        "          break\n",
        "      if arr1[i]<arr2[j]:\n",
        "          m1=m2\n",
        "          m2=arr1[i]\n",
        "          i+=1\n",
        "      else:\n",
        "          m1=m2\n",
        "          m2=arr2[j]\n",
        "          j+=1\n",
        "    return (m1+m2)//2"
      ],
      "metadata": {
        "colab": {
          "base_uri": "https://localhost:8080/",
          "height": 131
        },
        "id": "DfzQH7HMFmqD",
        "outputId": "50e513fb-7034-4ebc-972a-feeaf1debcb4"
      },
      "execution_count": null,
      "outputs": [
        {
          "output_type": "error",
          "ename": "SyntaxError",
          "evalue": "ignored",
          "traceback": [
            "\u001b[0;36m  File \u001b[0;32m\"<ipython-input-66-5aecca0e9717>\"\u001b[0;36m, line \u001b[0;32m3\u001b[0m\n\u001b[0;31m    def medianOfArray(arr1,arr2,n);\u001b[0m\n\u001b[0m                                  ^\u001b[0m\n\u001b[0;31mSyntaxError\u001b[0m\u001b[0;31m:\u001b[0m invalid syntax\n"
          ]
        }
      ]
    },
    {
      "cell_type": "code",
      "source": [
        "arr1+[1, 12, 15, 25, 38]\n",
        "arr2=[2, 13, 17, 30, 45]"
      ],
      "metadata": {
        "colab": {
          "base_uri": "https://localhost:8080/",
          "height": 184
        },
        "id": "HBEDDSbMHW9U",
        "outputId": "247b73c6-f019-4bd9-c97f-fe7ee35505c2"
      },
      "execution_count": null,
      "outputs": [
        {
          "output_type": "error",
          "ename": "NameError",
          "evalue": "ignored",
          "traceback": [
            "\u001b[0;31m---------------------------------------------------------------------------\u001b[0m",
            "\u001b[0;31mNameError\u001b[0m                                 Traceback (most recent call last)",
            "\u001b[0;32m<ipython-input-67-916251cbc51e>\u001b[0m in \u001b[0;36m<module>\u001b[0;34m\u001b[0m\n\u001b[0;32m----> 1\u001b[0;31m \u001b[0marr1\u001b[0m\u001b[0;34m+\u001b[0m\u001b[0;34m[\u001b[0m\u001b[0;36m1\u001b[0m\u001b[0;34m,\u001b[0m \u001b[0;36m12\u001b[0m\u001b[0;34m,\u001b[0m \u001b[0;36m15\u001b[0m\u001b[0;34m,\u001b[0m \u001b[0;36m25\u001b[0m\u001b[0;34m,\u001b[0m \u001b[0;36m38\u001b[0m\u001b[0;34m]\u001b[0m\u001b[0;34m\u001b[0m\u001b[0;34m\u001b[0m\u001b[0m\n\u001b[0m\u001b[1;32m      2\u001b[0m \u001b[0marr2\u001b[0m\u001b[0;34m=\u001b[0m\u001b[0;34m[\u001b[0m\u001b[0;36m2\u001b[0m\u001b[0;34m,\u001b[0m \u001b[0;36m13\u001b[0m\u001b[0;34m,\u001b[0m \u001b[0;36m17\u001b[0m\u001b[0;34m,\u001b[0m \u001b[0;36m30\u001b[0m\u001b[0;34m,\u001b[0m \u001b[0;36m45\u001b[0m\u001b[0;34m]\u001b[0m\u001b[0;34m\u001b[0m\u001b[0;34m\u001b[0m\u001b[0m\n",
            "\u001b[0;31mNameError\u001b[0m: name 'arr1' is not defined"
          ]
        }
      ]
    },
    {
      "cell_type": "code",
      "source": [
        "print(medianOfArray(arr1,arr2,len(arr1)))"
      ],
      "metadata": {
        "id": "jd9VncY4HhCi"
      },
      "execution_count": null,
      "outputs": []
    },
    {
      "cell_type": "code",
      "source": [
        "def floorSorted(arr,low,high,x):\n",
        "    #print(low,high)\n",
        "    if low>high:\n",
        "        return -1\n",
        "    \n",
        "    if arr[low]>x:\n",
        "        #print(\"inside\")\n",
        "        return -1\n",
        "    \n",
        "    if arr[high]<=x:\n",
        "        return arr[high]\n",
        "    \n",
        "    mid = (low+high)//2\n",
        "    \n",
        "    if arr[mid]==x:\n",
        "        return arr[mid]\n",
        "    \n",
        "    if mid>0 and x>=arr[mid-1] and arr[mid]>x:\n",
        "        return arr[mid-1]\n",
        "    \n",
        "    if mid<high and x<arr[mid+1] and x>= arr[mid]:\n",
        "        return arr[mid]\n",
        "    \n",
        "    if x>arr[mid]:\n",
        "        return floorSorted(arr, mid+1, high, x)\n",
        "    else:\n",
        "        return floorSorted(arr,low,mid-1,x)"
      ],
      "metadata": {
        "id": "BnE1MVJ_L31q"
      },
      "execution_count": null,
      "outputs": []
    },
    {
      "cell_type": "code",
      "source": [
        "arr=[1,2,8,10,12,14,19]\n",
        "x=5\n",
        "print(floorSorted(arr,0,len(arr)-1,x))"
      ],
      "metadata": {
        "colab": {
          "base_uri": "https://localhost:8080/"
        },
        "id": "eYd9eo43MD3D",
        "outputId": "9b1dfc5a-10e6-41be-d725-6135d4206ee8"
      },
      "execution_count": null,
      "outputs": [
        {
          "output_type": "stream",
          "name": "stdout",
          "text": [
            "2\n"
          ]
        }
      ]
    },
    {
      "cell_type": "code",
      "source": [
        "def fixedPoint(arr,low,high):\n",
        "  if low>high:\n",
        "    return -1\n",
        "  if arr[high]==high:\n",
        "    return arr[high]\n",
        "  if arr[low]==low:\n",
        "    return arr[low]\n",
        "  mid=(low+high)//2\n",
        "  if arr[mid]==mid:\n",
        "    return arr[mid]\n",
        "  if mid>arr[mid]:\n",
        "    return fixedPoint(arr,mid+1,high)\n",
        "  else:\n",
        "    return fixedPoint(arr,low,mid-1)"
      ],
      "metadata": {
        "id": "vCPsdHpBVUVb"
      },
      "execution_count": null,
      "outputs": []
    },
    {
      "cell_type": "code",
      "source": [
        "arr=[9,1,2,5,2]\n",
        "print(fixedPoint(arr,0,len(arr)-1))"
      ],
      "metadata": {
        "colab": {
          "base_uri": "https://localhost:8080/"
        },
        "id": "vi1jH_nYVXOa",
        "outputId": "333fad4f-e328-4630-9293-163cf9aaf9bc"
      },
      "execution_count": null,
      "outputs": [
        {
          "output_type": "stream",
          "name": "stdout",
          "text": [
            "2\n"
          ]
        }
      ]
    }
  ]
}