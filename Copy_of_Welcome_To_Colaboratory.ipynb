{
  "cells": [
    {
      "cell_type": "markdown",
      "metadata": {
        "id": "view-in-github",
        "colab_type": "text"
      },
      "source": [
        "<a href=\"https://colab.research.google.com/github/Aryayudhistira/Aryayudhistira/blob/main/Copy_of_Welcome_To_Colaboratory.ipynb\" target=\"_parent\"><img src=\"https://colab.research.google.com/assets/colab-badge.svg\" alt=\"Open In Colab\"/></a>"
      ]
    },
    {
      "cell_type": "code",
      "source": [
        "#Create the dictionary with graph elements\n",
        "graph = {\"a\" : [\"b\",\"c\"],\n",
        "         \"b\" : [\"a\",\"d\"],\n",
        "         \"c\" : [\"a\",\"d\"],\n",
        "         \"d\" : [\"e\"],\n",
        "         \"e\" : [\"d\"]\n",
        "         }\n",
        "# print the graph -> ->\n",
        "print(graph)"
      ],
      "metadata": {
        "id": "Dq4iiSlyDhel",
        "outputId": "49aac12c-7aa2-4c05-8452-05b25f860d05",
        "colab": {
          "base_uri": "https://localhost:8080/"
        }
      },
      "execution_count": null,
      "outputs": [
        {
          "output_type": "stream",
          "name": "stdout",
          "text": [
            "{'a': ['b', 'c'], 'b': ['a', 'd'], 'c': ['a', 'd'], 'd': ['e'], 'e': ['d']}\n"
          ]
        }
      ]
    },
    {
      "cell_type": "code",
      "source": [
        "#Latihan 1\n",
        "graph = {\"T\" : [\"U\",\"W\"],\n",
        "         \"U\" : [\"T\",\"V\"],\n",
        "         \"V\" : [\"U\",\"X\"],\n",
        "         \"W\" : [\"T\",\"X\",\"Z\"],\n",
        "         \"X\" : [\"V\",\"W\",\"S\"],\n",
        "         \"Z\" : [\"W\"],\n",
        "         \"S\" : [\"X\"]\n",
        "         }"
      ],
      "metadata": {
        "id": "pcd6tmSaFub_"
      },
      "execution_count": null,
      "outputs": []
    },
    {
      "cell_type": "code",
      "source": [
        "lat2 = { \"R\" : [\"O\",\"L\"],\n",
        "         \"O\" : [\"P\",\"R\",\"M\"],\n",
        "         \"M\" : [\"O\",\"N\"],\n",
        "         \"L\" : [\"R\",\"P\"],\n",
        "         \"P\" : [\"O\",\"L\",\"N\"],\n",
        "         \"N\" : [\"P\",\"M\"]\n",
        "         }\n",
        "print (lat2)"
      ],
      "metadata": {
        "id": "yskJgvgwG2U9",
        "outputId": "cd7a0821-44e9-4270-a92d-f4511060ae37",
        "colab": {
          "base_uri": "https://localhost:8080/"
        }
      },
      "execution_count": null,
      "outputs": [
        {
          "output_type": "stream",
          "name": "stdout",
          "text": [
            "{'R': ['O', 'L'], 'O': ['P', 'R', 'M'], 'M': ['O', 'N'], 'L': ['R', 'P'], 'P': ['O', 'L', 'N'], 'N': ['P', 'M']}\n"
          ]
        }
      ]
    },
    {
      "cell_type": "code",
      "source": [
        "class graph:\n",
        "  def _init_(self,gdict=None):\n",
        "      if gdict is None:\n",
        "          gdict = {}\n",
        "      self.gdict = gdict\n",
        "\n",
        "  def getVertices(self):\n",
        "    return list(self.gdict.keys())\n",
        "\n",
        "# Add the vertex as a key \n",
        "    def addVertex(self, vrtx):\n",
        "      if vrtx not in self.gdict:\n",
        "          self.gdict[vrtx] = []\n",
        "\n",
        "# Create the dictionary with graph elemens\n",
        "graph_elements = { \"a\" : [\"b\",\"c\"],\n",
        "                   \"b\" : [\"a\",\"d\"],\n",
        "                   \"c\" : [\"a\",\"d\"],\n",
        "                   \"d\" : [\"e\"],\n",
        "                   \"e\" : [\"d\"]\n",
        "                   }\n",
        "g = graph(graph_elements)\n",
        "g.addVertex(\"f\")\n",
        "print(g.getVertices())"
      ],
      "metadata": {
        "id": "P61qNmugQa1v",
        "outputId": "c8ecac1e-c887-4ccd-c3c3-d487e41a6186",
        "colab": {
          "base_uri": "https://localhost:8080/",
          "height": 236
        }
      },
      "execution_count": null,
      "outputs": [
        {
          "output_type": "error",
          "ename": "TypeError",
          "evalue": "ignored",
          "traceback": [
            "\u001b[0;31m---------------------------------------------------------------------------\u001b[0m",
            "\u001b[0;31mTypeError\u001b[0m                                 Traceback (most recent call last)",
            "\u001b[0;32m<ipython-input-15-ac04dbe854db>\u001b[0m in \u001b[0;36m<module>\u001b[0;34m\u001b[0m\n\u001b[1;32m     20\u001b[0m                    \u001b[0;34m\"e\"\u001b[0m \u001b[0;34m:\u001b[0m \u001b[0;34m[\u001b[0m\u001b[0;34m\"d\"\u001b[0m\u001b[0;34m]\u001b[0m\u001b[0;34m\u001b[0m\u001b[0;34m\u001b[0m\u001b[0m\n\u001b[1;32m     21\u001b[0m                    }\n\u001b[0;32m---> 22\u001b[0;31m \u001b[0mg\u001b[0m \u001b[0;34m=\u001b[0m \u001b[0mgraph\u001b[0m\u001b[0;34m(\u001b[0m\u001b[0mgraph_elements\u001b[0m\u001b[0;34m)\u001b[0m\u001b[0;34m\u001b[0m\u001b[0;34m\u001b[0m\u001b[0m\n\u001b[0m\u001b[1;32m     23\u001b[0m \u001b[0mg\u001b[0m\u001b[0;34m.\u001b[0m\u001b[0maddVertex\u001b[0m\u001b[0;34m(\u001b[0m\u001b[0;34m\"f\"\u001b[0m\u001b[0;34m)\u001b[0m\u001b[0;34m\u001b[0m\u001b[0;34m\u001b[0m\u001b[0m\n\u001b[1;32m     24\u001b[0m \u001b[0mprint\u001b[0m\u001b[0;34m(\u001b[0m\u001b[0mg\u001b[0m\u001b[0;34m.\u001b[0m\u001b[0mgetVertices\u001b[0m\u001b[0;34m(\u001b[0m\u001b[0;34m)\u001b[0m\u001b[0;34m)\u001b[0m\u001b[0;34m\u001b[0m\u001b[0;34m\u001b[0m\u001b[0m\n",
            "\u001b[0;31mTypeError\u001b[0m: graph() takes no arguments"
          ]
        }
      ]
    },
    {
      "cell_type": "code",
      "source": [
        "class graph:\n",
        "\n",
        "    def__init__(self,gdict=None):\n",
        "       if gdict is None:\n",
        "           gdict = {}\n",
        "       self.gdict = gdict\n",
        "\n",
        "    def getVertices(self):\n",
        "        return list(self.gdict.keys())\n",
        "\n",
        "#Create the dictionary with graph elements\n",
        "graph_elements  = { \"a\" : [\"b\", \"c\"],\n",
        "                \"b\" : [\"a\", \"d\"],\n",
        "                \"c\" : [\"a\", \"d\"],\n",
        "                \"d\" : [\"e\"],\n",
        "                \"e\" : [\"d\"]\n",
        "                }\n",
        "\n",
        "g = graph(graph_elements)\n",
        "\n",
        "g.addVertex(\"f\")\n",
        "\n",
        "print(g.getVertices())"
      ],
      "metadata": {
        "id": "4k6VsD-tMR0N",
        "outputId": "4f869075-8407-41ff-c9e1-d51eb3ffb808",
        "colab": {
          "base_uri": "https://localhost:8080/",
          "height": 131
        }
      },
      "execution_count": null,
      "outputs": [
        {
          "output_type": "error",
          "ename": "SyntaxError",
          "evalue": "ignored",
          "traceback": [
            "\u001b[0;36m  File \u001b[0;32m\"<ipython-input-13-65a51959ba42>\"\u001b[0;36m, line \u001b[0;32m3\u001b[0m\n\u001b[0;31m    def__init__(self,gdict=None):\u001b[0m\n\u001b[0m                                 ^\u001b[0m\n\u001b[0;31mSyntaxError\u001b[0m\u001b[0;31m:\u001b[0m invalid syntax\n"
          ]
        }
      ]
    },
    {
      "cell_type": "code",
      "source": [
        "class graph:\n",
        "    def __init__(self,gdict=None):\n",
        "        if gdict is None:\n",
        "            gdict = {}\n",
        "        self.gdict = gdict\n",
        "\n",
        "    def edges(self):\n",
        "        return self.findedges()\n",
        "# add the new edge\n",
        "\n",
        "    def AddEdge(self, edge):\n",
        "        edge = set(edge)\n",
        "        (vrtx1, vrtx2) = tuple(edge)\n",
        "        if vrtx in self.gdict:\n",
        "            self.gdict[vrtx1].append(vrtx2)\n",
        "        else:\n",
        "            self.gdict[vrtx1] = [vrtx2]\n",
        "\n",
        "# list the edge names\n",
        "    def findedges(self):\n",
        "        edgename = []\n",
        "        for vrtx in self.gdict:\n",
        "            for nxtvrtx in self.gdict[vrtx]:\n",
        "                if {nxtvrtx, vrtx} not in edgename:\n",
        "                    edgename.append({vrtx, nxtvrtx})\n",
        "        return edgename\n",
        "      "
      ],
      "metadata": {
        "id": "61Z_B5JmOQuZ"
      },
      "execution_count": null,
      "outputs": []
    },
    {
      "cell_type": "code",
      "source": [
        "#create the dictionary with graph elements\n",
        "graph_elements = { \"a\" : [\"b\",\"c\"],\n",
        "                \"b\" : [\"a\", \"d\"],\n",
        "                \"c\" : [\"a\", \"d\"],\n",
        "                \"d\" : [\"e\"],\n",
        "                \"e\" : [\"d\"]\n",
        "                }\n",
        "\n",
        "g = graph(graph_elements)\n",
        "g.AddEdge({'a','e'})\n",
        "g.AddEdge({'a','c'})\n",
        "print(g.edges())"
      ],
      "metadata": {
        "id": "PR6k5tWbQtT3",
        "outputId": "3aa5b36d-212d-482f-d04d-cc1bd955a310",
        "colab": {
          "base_uri": "https://localhost:8080/",
          "height": 236
        }
      },
      "execution_count": null,
      "outputs": [
        {
          "output_type": "error",
          "ename": "TypeError",
          "evalue": "ignored",
          "traceback": [
            "\u001b[0;31m---------------------------------------------------------------------------\u001b[0m",
            "\u001b[0;31mTypeError\u001b[0m                                 Traceback (most recent call last)",
            "\u001b[0;32m<ipython-input-21-634d613b5b64>\u001b[0m in \u001b[0;36m<module>\u001b[0;34m\u001b[0m\n\u001b[1;32m      7\u001b[0m                 }\n\u001b[1;32m      8\u001b[0m \u001b[0;34m\u001b[0m\u001b[0m\n\u001b[0;32m----> 9\u001b[0;31m \u001b[0mg\u001b[0m \u001b[0;34m=\u001b[0m \u001b[0mgraph\u001b[0m\u001b[0;34m(\u001b[0m\u001b[0mgraph_elements\u001b[0m\u001b[0;34m)\u001b[0m\u001b[0;34m\u001b[0m\u001b[0;34m\u001b[0m\u001b[0m\n\u001b[0m\u001b[1;32m     10\u001b[0m \u001b[0mg\u001b[0m\u001b[0;34m.\u001b[0m\u001b[0mAddEdge\u001b[0m\u001b[0;34m(\u001b[0m\u001b[0;34m{\u001b[0m\u001b[0;34m'a'\u001b[0m\u001b[0;34m,\u001b[0m\u001b[0;34m'e'\u001b[0m\u001b[0;34m}\u001b[0m\u001b[0;34m)\u001b[0m\u001b[0;34m\u001b[0m\u001b[0;34m\u001b[0m\u001b[0m\n\u001b[1;32m     11\u001b[0m \u001b[0mg\u001b[0m\u001b[0;34m.\u001b[0m\u001b[0mAddEdge\u001b[0m\u001b[0;34m(\u001b[0m\u001b[0;34m{\u001b[0m\u001b[0;34m'a'\u001b[0m\u001b[0;34m,\u001b[0m\u001b[0;34m'c'\u001b[0m\u001b[0;34m}\u001b[0m\u001b[0;34m)\u001b[0m\u001b[0;34m\u001b[0m\u001b[0;34m\u001b[0m\u001b[0m\n",
            "\u001b[0;31mTypeError\u001b[0m: graph() takes no arguments"
          ]
        }
      ]
    }
  ],
  "metadata": {
    "colab": {
      "collapsed_sections": [],
      "toc_visible": true,
      "provenance": [],
      "include_colab_link": true
    },
    "kernelspec": {
      "display_name": "Python 3",
      "name": "python3"
    }
  },
  "nbformat": 4,
  "nbformat_minor": 0
}